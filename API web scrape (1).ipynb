{
 "cells": [
  {
   "cell_type": "code",
   "execution_count": 1,
   "id": "1675935d",
   "metadata": {},
   "outputs": [
    {
     "data": {
      "text/plain": [
       "\"{'ab...ies': [{'ability': {'name': 'overgrow', 'url': 'ht...65/'}, 'is...den': False, 'slot': 1}, {'ability': {'name': 'ch...yll', 'url': 'ht...34/'}, 'is...den': True, 'slot': 3}], 'ba...nce': 64, 'forms': [{'name': 'bu...aur', 'url': 'ht.../1/'}], 'ga...ces': [{'ga...dex': 153, 'version': {'name': 'red', 'url': 'ht.../1/'}}, {'ga...dex': 153, 'version': {'name': 'blue', 'url': 'ht.../2/'}}, {'ga...dex': 153, 'version': {'name': 'yellow', 'url': 'ht.../3/'}}, {'ga...dex': 1, 'version': {'name': 'gold', 'url': 'ht.../4/'}}, ...], ...}\""
      ]
     },
     "execution_count": 1,
     "metadata": {},
     "output_type": "execute_result"
    }
   ],
   "source": [
    "import requests\n",
    "import json\n",
    "import reprlib\n",
    "r = reprlib.Repr()\n",
    "r.maxlist = 4       # max elements displayed for lists\n",
    "r.maxstring = 10\n",
    "\n",
    "url=\"https://pokeapi.co/api/v2/pokemon/1\"\n",
    "def fetch_data(url):\n",
    "    response = requests.get(url)\n",
    "    if response.status_code == 200:\n",
    "        data = response.json()\n",
    "        return data\n",
    "    else:\n",
    "        print(f\"Error occurred. Status Code: {response.status_code}\")\n",
    "r.repr(fetch_data(url))"
   ]
  },
  {
   "cell_type": "code",
   "execution_count": 3,
   "id": "74e2b42f",
   "metadata": {},
   "outputs": [],
   "source": [
    "import psycopg2\n",
    "import requests\n",
    "import json\n",
    "\n",
    "def fetch_data(url):\n",
    "    response = requests.get(url)\n",
    "    if response.status_code == 200:\n",
    "        data = response.json()\n",
    "        return data\n",
    "    else:\n",
    "        print(f\"Error occurred. Status Code: {response.status_code}\")\n",
    "\n",
    "def get_first_100_urls():\n",
    "    url = \"https://pokeapi.co/api/v2/pokemon/?limit=100\"\n",
    "    data = fetch_data(url)\n",
    "    if data:\n",
    "        return data[\"results\"]\n",
    "    else:\n",
    "        return []\n",
    "conn = psycopg2.connect(\n",
    "    host=\"pg.pg4e.com\",\n",
    "    database=\"\", #for demo get credentials\n",
    "    user=\"\",\n",
    "    password=\"\")\n",
    "\n",
    "cursor = conn.cursor()\n",
    "\n",
    "urls = get_first_100_urls()\n",
    "for i, url in enumerate(urls, start=1):\n",
    "    data = fetch_data(url[\"url\"])\n",
    "    json_body = json.dumps(data)\n",
    "    cursor.execute(\"INSERT INTO pokeapi (id, body) VALUES (%s, %s)\", (i, json_body))\n",
    "conn.commit()\n",
    "cursor.close()\n",
    "conn.close()\n",
    "    "
   ]
  },
  {
   "cell_type": "code",
   "execution_count": 4,
   "id": "eb2ff697",
   "metadata": {},
   "outputs": [
    {
     "name": "stdout",
     "output_type": "stream",
     "text": [
      "(100, {'ab...ies': [{'ability': {'name': 'so...oof', 'url': 'ht...43/'}, 'is...den': False, 'slot': 1}, {'ability': {'name': 'static', 'url': 'ht.../9/'}, 'is...den': False, 'slot': 2}, {'ability': {'name': 'af...ath', 'url': 'ht...06/'}, 'is...den': True, 'slot': 3}], 'ba...nce': 66, 'forms': [{'name': 'voltorb', 'url': 'ht...00/'}], 'ga...ces': [{'ga...dex': 6, 'version': {'name': 'red', 'url': 'ht.../1/'}}, {'ga...dex': 6, 'version': {'name': 'blue', 'url': 'ht.../2/'}}, {'ga...dex': 6, 'version': {'name': 'yellow', 'url': 'ht.../3/'}}, {'ga...dex': 100, 'version': {'name': 'gold', 'url': 'ht.../4/'}}, ...], ...})\n",
      "(99, {'ab...ies': [{'ability': {'name': 'hy...ter', 'url': 'ht...52/'}, 'is...den': False, 'slot': 1}, {'ability': {'name': 'sh...mor', 'url': 'ht...75/'}, 'is...den': False, 'slot': 2}, {'ability': {'name': 'sh...rce', 'url': 'ht...25/'}, 'is...den': True, 'slot': 3}], 'ba...nce': 166, 'forms': [{'name': 'kingler', 'url': 'ht...99/'}], 'ga...ces': [{'ga...dex': 138, 'version': {'name': 'red', 'url': 'ht.../1/'}}, {'ga...dex': 138, 'version': {'name': 'blue', 'url': 'ht.../2/'}}, {'ga...dex': 138, 'version': {'name': 'yellow', 'url': 'ht.../3/'}}, {'ga...dex': 99, 'version': {'name': 'gold', 'url': 'ht.../4/'}}, ...], ...})\n"
     ]
    }
   ],
   "source": [
    "import psycopg2\n",
    "conn = psycopg2.connect(\n",
    "    host=\"pg.pg4e.com\",\n",
    "    database=\"\", #for demo get credentials\n",
    "    user=\"\",\n",
    "    password=\"\")\n",
    "\n",
    "\n",
    "# Create a cursor object to execute SQL queries\n",
    "cursor = conn.cursor()\n",
    "\n",
    "# Execute the SELECT statement to fetch the last two rows\n",
    "query = \"SELECT * FROM pokeapi ORDER BY id DESC LIMIT 2;\"\n",
    "cursor.execute(query)\n",
    "\n",
    "# Fetch all rows from the result\n",
    "rows = cursor.fetchall()\n",
    "\n",
    "# Print the fetched rows\n",
    "for row in rows:\n",
    "    print(r.repr(row))\n",
    "\n",
    "# Close the cursor and connection\n",
    "cursor.close()\n",
    "conn.close()"
   ]
  }
 ],
 "metadata": {
  "kernelspec": {
   "display_name": "Python 3 (ipykernel)",
   "language": "python",
   "name": "python3"
  },
  "language_info": {
   "codemirror_mode": {
    "name": "ipython",
    "version": 3
   },
   "file_extension": ".py",
   "mimetype": "text/x-python",
   "name": "python",
   "nbconvert_exporter": "python",
   "pygments_lexer": "ipython3",
   "version": "3.9.12"
  }
 },
 "nbformat": 4,
 "nbformat_minor": 5
}
